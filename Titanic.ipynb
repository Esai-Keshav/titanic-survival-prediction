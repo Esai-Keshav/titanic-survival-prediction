{
 "cells": [
  {
   "cell_type": "markdown",
   "id": "2aa7556f",
   "metadata": {},
   "source": [
    "#  Titanic Survival Prediction Using Machine Learning "
   ]
  },
  {
   "cell_type": "markdown",
   "id": "0e11a7ae",
   "metadata": {},
   "source": [
    "# Importing Libraries "
   ]
  },
  {
   "cell_type": "code",
   "execution_count": null,
   "id": "af104e15-128d-44fc-8f89-ed13223c87eb",
   "metadata": {
    "scrolled": true
   },
   "outputs": [],
   "source": [
    "import pandas as pd\n",
    "import numpy as np\n",
    "import seaborn as sns\n",
    "import matplotlib.pyplot as plt"
   ]
  },
  {
   "cell_type": "markdown",
   "id": "3e088d4e",
   "metadata": {},
   "source": [
    "# Loading Data"
   ]
  },
  {
   "cell_type": "code",
   "execution_count": null,
   "id": "3b760022-dc5d-428b-beb7-8ea7ce1c75d7",
   "metadata": {
    "scrolled": true
   },
   "outputs": [],
   "source": [
    "train_data = pd.read_csv(\"data/train.csv\")\n",
    "test = pd.read_csv(\"data/test.csv\")"
   ]
  },
  {
   "cell_type": "markdown",
   "id": "142915bf",
   "metadata": {},
   "source": [
    "# EDA"
   ]
  },
  {
   "cell_type": "code",
   "execution_count": null,
   "id": "d8489579-c4c5-4656-a4d3-ec8f4b8e4564",
   "metadata": {
    "scrolled": true
   },
   "outputs": [],
   "source": [
    "train_data.info()"
   ]
  },
  {
   "cell_type": "code",
   "execution_count": null,
   "id": "b744a451-c7b2-4845-ba1b-be4ab3c8af43",
   "metadata": {},
   "outputs": [],
   "source": [
    "df_num = train_data[[\"Age\", \"SibSp\", \"Parch\", \"Fare\"]]\n",
    "df_cat = train_data[[\"Survived\", \"Sex\", \"Cabin\", \"Embarked\", \"Ticket\"]]"
   ]
  },
  {
   "cell_type": "code",
   "execution_count": null,
   "id": "e2b51a4c-d07b-482b-989f-585afa80642d",
   "metadata": {},
   "outputs": [],
   "source": [
    "for i in df_num.columns:\n",
    "    plt.hist(df_num[i])\n",
    "    plt.title(i)\n",
    "    plt.show()"
   ]
  },
  {
   "cell_type": "code",
   "execution_count": null,
   "id": "a5de4709",
   "metadata": {},
   "outputs": [],
   "source": [
    "sns.barplot(data=train_data, x=\"Pclass\", y=\"Fare\", hue=\"Survived\")"
   ]
  },
  {
   "cell_type": "code",
   "execution_count": null,
   "id": "6ad3243a-8a63-48c6-998e-bb2d085a964e",
   "metadata": {},
   "outputs": [],
   "source": [
    "pd.pivot_table(train_data, index=\"Survived\", values=[\"Age\", \"SibSp\", \"Parch\", \"Fare\"])"
   ]
  },
  {
   "cell_type": "code",
   "execution_count": null,
   "id": "c817dbf2-117f-43ee-aec0-ca319bf7abe3",
   "metadata": {},
   "outputs": [],
   "source": [
    "for i in df_cat.columns:\n",
    "    sns.barplot(x=df_cat[i].value_counts().index, y=df_cat[i].value_counts())\n",
    "    plt.show()"
   ]
  },
  {
   "cell_type": "code",
   "execution_count": null,
   "id": "9c00a45e-a96f-4968-adf4-2b9b695e02c7",
   "metadata": {},
   "outputs": [],
   "source": [
    "x = pd.DataFrame(\n",
    "    (\n",
    "        pd.pivot_table(\n",
    "            train_data,\n",
    "            index=\"Survived\",\n",
    "            columns=\"Sex\",\n",
    "            values=\"Ticket\",\n",
    "            aggfunc=\"count\",\n",
    "        )\n",
    "    )\n",
    ")\n",
    "print()\n",
    "print(\n",
    "    pd.pivot_table(\n",
    "        train_data, index=\"Survived\", columns=\"Pclass\", values=\"Ticket\", aggfunc=\"count\"\n",
    "    )\n",
    ")\n",
    "print()\n",
    "print(\n",
    "    pd.pivot_table(\n",
    "        train_data,\n",
    "        index=\"Survived\",\n",
    "        columns=\"Embarked\",\n",
    "        values=\"Ticket\",\n",
    "        aggfunc=\"count\",\n",
    "    )\n",
    ")\n",
    "print()\n",
    "x"
   ]
  },
  {
   "cell_type": "markdown",
   "id": "cf210319",
   "metadata": {},
   "source": [
    "# Data Cleaning  "
   ]
  },
  {
   "cell_type": "code",
   "execution_count": null,
   "id": "1a8e1ac6-a5df-4f30-a7a3-b42eb56ee16e",
   "metadata": {},
   "outputs": [],
   "source": [
    "train_data.isnull().sum()"
   ]
  },
  {
   "cell_type": "code",
   "execution_count": null,
   "id": "da1c918a-b839-4a83-8adf-629bbe71e44a",
   "metadata": {},
   "outputs": [],
   "source": [
    "train_data = train_data.drop(columns=[\"PassengerId\", \"Cabin\", \"Name\", \"Ticket\"])"
   ]
  },
  {
   "cell_type": "code",
   "execution_count": null,
   "id": "d2999b86-0dd6-42cd-a466-19f34ae14a73",
   "metadata": {},
   "outputs": [],
   "source": [
    "train_data[\"Age\"] = train_data[\"Age\"].fillna(train_data[\"Age\"].mean())"
   ]
  },
  {
   "cell_type": "code",
   "execution_count": null,
   "id": "c9131314-c2e5-4d20-9c14-6980c670bba7",
   "metadata": {},
   "outputs": [],
   "source": [
    "train_data[\"Embarked\"] = train_data[\"Embarked\"].fillna(train_data[\"Embarked\"].mode()[0])"
   ]
  },
  {
   "cell_type": "code",
   "execution_count": null,
   "id": "6c5b67c8-e042-4700-8c85-d1a29d61ea63",
   "metadata": {},
   "outputs": [],
   "source": [
    "train_data.isnull().sum()"
   ]
  },
  {
   "cell_type": "markdown",
   "id": "dba91b38",
   "metadata": {},
   "source": [
    "# Feature Enginneering "
   ]
  },
  {
   "cell_type": "code",
   "execution_count": null,
   "id": "7ebfb897-11c2-4041-b29c-ac2db03e2701",
   "metadata": {},
   "outputs": [],
   "source": [
    "train_data[\"Fare\"] = np.log(train_data[\"Fare\"] + 1)"
   ]
  },
  {
   "cell_type": "code",
   "execution_count": null,
   "id": "40f0495e",
   "metadata": {},
   "outputs": [],
   "source": [
    "sns.displot(train_data[\"Fare\"], kde=True)"
   ]
  },
  {
   "cell_type": "code",
   "execution_count": null,
   "id": "15a93377",
   "metadata": {},
   "outputs": [],
   "source": [
    "corr = train_data.corr(numeric_only=True)\n",
    "sns.heatmap(corr, annot=True, fmt=\".2f\", cmap=\"coolwarm\")"
   ]
  },
  {
   "cell_type": "code",
   "execution_count": null,
   "id": "7a757d30",
   "metadata": {},
   "outputs": [],
   "source": [
    "from sklearn.preprocessing import LabelEncoder\n",
    "\n",
    "cols = [\"Sex\", \"Embarked\"]\n",
    "le = LabelEncoder()\n",
    "for col in cols:\n",
    "    train_data[col] = le.fit_transform(train_data[col])\n",
    "\n",
    "train_data.head()"
   ]
  },
  {
   "cell_type": "code",
   "execution_count": null,
   "id": "c6ca68a4",
   "metadata": {},
   "outputs": [],
   "source": [
    "X = train_data.drop(columns=[\"Survived\"], axis=1)\n",
    "y = train_data[\"Survived\"]\n",
    "train_data"
   ]
  },
  {
   "cell_type": "markdown",
   "id": "962a7ed3",
   "metadata": {},
   "source": [
    "# Setting up the Parameters for the Model  "
   ]
  },
  {
   "cell_type": "code",
   "execution_count": null,
   "id": "b391b7ac",
   "metadata": {},
   "outputs": [],
   "source": [
    "from sklearn.model_selection import train_test_split, cross_val_score\n",
    "\n",
    "\n",
    "def classify(model):\n",
    "    x_train, x_test, y_train, y_test = train_test_split(\n",
    "        X, y, test_size=0.25, random_state=40\n",
    "    )\n",
    "    model.fit(x_train, y_train)\n",
    "    print(\"Accuracy\", model.score(x_test, y_test))\n",
    "\n",
    "    score = cross_val_score(model, X, y, cv=5)\n",
    "    print(\"CV SCORE :\", np.mean(score))"
   ]
  },
  {
   "cell_type": "code",
   "execution_count": null,
   "id": "9d85d4f0",
   "metadata": {},
   "outputs": [],
   "source": [
    "from sklearn.tree import DecisionTreeClassifier\n",
    "\n",
    "model = DecisionTreeClassifier()\n",
    "classify(model)"
   ]
  },
  {
   "cell_type": "code",
   "execution_count": null,
   "id": "ce21679d",
   "metadata": {},
   "outputs": [],
   "source": [
    "from lightgbm import LGBMClassifier\n",
    "\n",
    "model = LGBMClassifier()\n",
    "classify(model)"
   ]
  },
  {
   "cell_type": "code",
   "execution_count": null,
   "id": "25b54c47",
   "metadata": {
    "tags": []
   },
   "outputs": [],
   "source": [
    "from xgboost import XGBClassifier\n",
    "\n",
    "model = XGBClassifier()\n",
    "classify(model)"
   ]
  },
  {
   "cell_type": "code",
   "execution_count": null,
   "id": "0e4ce603",
   "metadata": {},
   "outputs": [],
   "source": [
    "from sklearn.ensemble import RandomForestClassifier\n",
    "\n",
    "model = RandomForestClassifier()\n",
    "classify(model)"
   ]
  },
  {
   "cell_type": "code",
   "execution_count": null,
   "id": "b40c925e",
   "metadata": {},
   "outputs": [],
   "source": [
    "from sklearn.ensemble import ExtraTreesClassifier\n",
    "\n",
    "model = ExtraTreesClassifier()\n",
    "classify(model)"
   ]
  },
  {
   "cell_type": "code",
   "execution_count": null,
   "id": "ca300303",
   "metadata": {},
   "outputs": [],
   "source": [
    "from sklearn.linear_model import LogisticRegression\n",
    "\n",
    "model = LogisticRegression(max_iter=1000)\n",
    "classify(model)"
   ]
  },
  {
   "cell_type": "code",
   "execution_count": null,
   "id": "d21a0d2c",
   "metadata": {},
   "outputs": [],
   "source": [
    "model = XGBClassifier()\n",
    "model.fit(X, y)"
   ]
  },
  {
   "cell_type": "code",
   "execution_count": null,
   "id": "75f2d8d7",
   "metadata": {},
   "outputs": [],
   "source": [
    "X_test = test.drop(columns=[\"PassengerId\", \"Name\", \"Cabin\", \"Ticket\"], axis=1)\n",
    "\n",
    "X_test"
   ]
  },
  {
   "cell_type": "code",
   "execution_count": null,
   "id": "88df138b",
   "metadata": {},
   "outputs": [],
   "source": [
    "from sklearn.preprocessing import LabelEncoder\n",
    "\n",
    "cols = [\"Sex\", \"Embarked\"]\n",
    "le = LabelEncoder()\n",
    "\n",
    "for col in cols:\n",
    "    X_test[col] = le.fit_transform(X_test[col])\n",
    "\n",
    "X_test.head()"
   ]
  },
  {
   "cell_type": "code",
   "execution_count": null,
   "id": "b334cd66",
   "metadata": {},
   "outputs": [],
   "source": [
    "X_test[\"Age\"] = X_test[\"Age\"].fillna(X_test[\"Age\"].mean())\n",
    "X_test[\"Fare\"] = X_test[\"Fare\"].fillna(X_test[\"Fare\"].mean())\n",
    "\n",
    "X_test.isnull().sum()"
   ]
  },
  {
   "cell_type": "markdown",
   "id": "428aa100",
   "metadata": {},
   "source": [
    "# Data Preprocessing"
   ]
  },
  {
   "cell_type": "code",
   "execution_count": null,
   "id": "24977fc3",
   "metadata": {},
   "outputs": [],
   "source": [
    "X_test = test.drop(columns=[\"PassengerId\", \"Name\", \"Cabin\", \"Ticket\"], axis=1)\n",
    "\n",
    "X_test[\"Age\"] = X_test[\"Age\"].fillna(X_test[\"Age\"].mean())\n",
    "X_test[\"Fare\"] = X_test[\"Fare\"].fillna(X_test[\"Fare\"].mean())\n",
    "\n",
    "X_test.isnull().sum()\n",
    "\n",
    "from sklearn.preprocessing import LabelEncoder\n",
    "\n",
    "cols = [\"Sex\", \"Embarked\"]\n",
    "le = LabelEncoder()\n",
    "\n",
    "for col in cols:\n",
    "    X_test[col] = le.fit_transform(X_test[col])\n",
    "\n",
    "X_test.head()\n",
    "X_test"
   ]
  },
  {
   "cell_type": "markdown",
   "id": "a7ea603e",
   "metadata": {},
   "source": [
    "# Model Testing "
   ]
  },
  {
   "cell_type": "code",
   "execution_count": null,
   "id": "559e0cd9",
   "metadata": {},
   "outputs": [],
   "source": [
    "pred = model.predict(X_test)\n",
    "pred"
   ]
  },
  {
   "cell_type": "markdown",
   "id": "f40b000f",
   "metadata": {},
   "source": [
    "# Test Submission "
   ]
  },
  {
   "cell_type": "code",
   "execution_count": null,
   "id": "2882ff34",
   "metadata": {},
   "outputs": [],
   "source": [
    "submit = pd.read_csv(\"data/gender_submission.csv\")\n",
    "submit"
   ]
  },
  {
   "cell_type": "code",
   "execution_count": null,
   "id": "c09a8ee7",
   "metadata": {},
   "outputs": [],
   "source": [
    "submit[\"Survived\"] = pred\n",
    "\n",
    "submit"
   ]
  },
  {
   "cell_type": "code",
   "execution_count": null,
   "id": "1d3e19b3",
   "metadata": {},
   "outputs": [],
   "source": [
    "submit.info()"
   ]
  },
  {
   "cell_type": "code",
   "execution_count": null,
   "id": "15d19fda",
   "metadata": {
    "editable": true,
    "slideshow": {
     "slide_type": ""
    },
    "tags": []
   },
   "outputs": [],
   "source": [
    "submit.to_csv(\"Submission.csv\", index=False)"
   ]
  },
  {
   "cell_type": "markdown",
   "id": "83f6705a-cb2f-4411-9491-f66bf44eedaa",
   "metadata": {},
   "source": [
    "# The Accuracy of the Model is 73.8%"
   ]
  }
 ],
 "metadata": {
  "kernelspec": {
   "display_name": "Python 3 (ipykernel)",
   "language": "python",
   "name": "python3"
  },
  "language_info": {
   "codemirror_mode": {
    "name": "ipython",
    "version": 3
   },
   "file_extension": ".py",
   "mimetype": "text/x-python",
   "name": "python",
   "nbconvert_exporter": "python",
   "pygments_lexer": "ipython3",
   "version": "3.11.3"
  }
 },
 "nbformat": 4,
 "nbformat_minor": 5
}
